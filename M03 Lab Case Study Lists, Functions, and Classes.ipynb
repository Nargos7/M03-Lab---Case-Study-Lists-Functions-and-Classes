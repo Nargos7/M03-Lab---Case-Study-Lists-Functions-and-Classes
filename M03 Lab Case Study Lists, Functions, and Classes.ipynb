{
 "cells": [
  {
   "cell_type": "code",
   "execution_count": 1,
   "id": "90f8f4ac",
   "metadata": {},
   "outputs": [
    {
     "name": "stdout",
     "output_type": "stream",
     "text": [
      "Enter the year of the car: 2022\n",
      "Enter the make of the car: Toyota\n",
      "Enter the model of the car: Corolla\n",
      "Enter the number of doors (2 or 4): 4\n",
      "Enter the type of roof (solid or sun roof): sun roof\n",
      "  Vehicle type: car\n",
      "  Year: 2022\n",
      "  Make: Toyota\n",
      "  Model: Corolla\n",
      "  Number of doors: 4\n",
      "  Type of roof: sun roof\n"
     ]
    }
   ],
   "source": [
    "#Argyrios Benekos\n",
    "#This app will accept user's input for a car. The app will store \"car\" into the vehicle type,\n",
    "#ask the user for the year, make, model, doors, and type of roof, store the data\n",
    "#then output the data\n",
    "\n",
    "#Create a class called Vehicle\n",
    "class Vehicle:\n",
    "    def __init__(self, vehicle_type):\n",
    "        self.vehicle_type = vehicle_type\n",
    "        \n",
    "#Create a class called Vehicle\n",
    "class Automobile(Vehicle):\n",
    "    def __init__(self, vehicle_type, year, make, model, doors, roof):\n",
    "        self.vehicle_type = vehicle_type\n",
    "        self.year = year\n",
    "        self.make = make\n",
    "        self.model = model\n",
    "        self.doors = doors\n",
    "        self.roof = roof\n",
    "\n",
    "    def output_data(self):\n",
    "        print(f\"  Vehicle type: {self.vehicle_type}\")\n",
    "        print(f\"  Year: {self.year}\")\n",
    "        print(f\"  Make: {self.make}\")\n",
    "        print(f\"  Model: {self.model}\")\n",
    "        print(f\"  Number of doors: {self.doors}\")\n",
    "        print(f\"  Type of roof: {self.roof}\")\n",
    "\n",
    "def main():\n",
    "    # Accept user's input\n",
    "    year = input(\"Enter the year of the car: \")\n",
    "    make = input(\"Enter the make of the car: \")\n",
    "    model = input(\"Enter the model of the car: \")\n",
    "    doors = input(\"Enter the number of doors (2 or 4): \")\n",
    "    roof = input(\"Enter the type of roof (solid or sun roof): \")\n",
    "\n",
    "    # Create an Automobile object\n",
    "    car = Automobile(\"car\", year, make, model, doors, roof)\n",
    "\n",
    "    # Output car's data\n",
    "    car.output_data()\n",
    "\n",
    "if __name__ == \"__main__\":\n",
    "    main()"
   ]
  },
  {
   "cell_type": "code",
   "execution_count": null,
   "id": "a63d5669",
   "metadata": {},
   "outputs": [],
   "source": []
  }
 ],
 "metadata": {
  "kernelspec": {
   "display_name": "Python 3 (ipykernel)",
   "language": "python",
   "name": "python3"
  },
  "language_info": {
   "codemirror_mode": {
    "name": "ipython",
    "version": 3
   },
   "file_extension": ".py",
   "mimetype": "text/x-python",
   "name": "python",
   "nbconvert_exporter": "python",
   "pygments_lexer": "ipython3",
   "version": "3.11.5"
  }
 },
 "nbformat": 4,
 "nbformat_minor": 5
}
